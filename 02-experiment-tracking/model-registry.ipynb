{
 "cells": [
  {
   "cell_type": "code",
   "execution_count": 7,
   "metadata": {},
   "outputs": [],
   "source": [
    "from mlflow.tracking import MlflowClient\n",
    "\n",
    "MLFLOW_TRACKING_URI = \"sqlite:///mlflow.db\"\n",
    "\n",
    "client = MlflowClient(tracking_uri=MLFLOW_TRACKING_URI)"
   ]
  },
  {
   "cell_type": "code",
   "execution_count": 8,
   "metadata": {},
   "outputs": [
    {
     "data": {
      "text/plain": [
       "[<Experiment: artifact_location='/workspaces/MLOps-Zoomcamp/02-experiment-tracking/mlruns/1', creation_time=1719736280654, experiment_id='1', last_update_time=1719736280654, lifecycle_stage='active', name='nyc-taxi-experiment', tags={}>,\n",
       " <Experiment: artifact_location='mlflow-artifacts:/0', creation_time=1719735940979, experiment_id='0', last_update_time=1719735940979, lifecycle_stage='active', name='Default', tags={}>]"
      ]
     },
     "execution_count": 8,
     "metadata": {},
     "output_type": "execute_result"
    }
   ],
   "source": [
    "client.search_experiments()"
   ]
  },
  {
   "cell_type": "code",
   "execution_count": 9,
   "metadata": {},
   "outputs": [
    {
     "data": {
      "text/plain": [
       "'2'"
      ]
     },
     "execution_count": 9,
     "metadata": {},
     "output_type": "execute_result"
    }
   ],
   "source": [
    "client.create_experiment(name='my-cool-experiment')"
   ]
  },
  {
   "cell_type": "code",
   "execution_count": 15,
   "metadata": {},
   "outputs": [],
   "source": [
    "from mlflow.entities import ViewType\n",
    "\n",
    "runs = client.search_runs(\n",
    "  experiment_ids='1',\n",
    "  filter_string=\"metrics.rmse < 6.8\",\n",
    "  run_view_type=ViewType.ACTIVE_ONLY,\n",
    "  max_results=5,\n",
    "  order_by=['metrics.rmse ASC']\n",
    ")"
   ]
  },
  {
   "cell_type": "code",
   "execution_count": 16,
   "metadata": {},
   "outputs": [
    {
     "name": "stdout",
     "output_type": "stream",
     "text": [
      "run id: d9b941243a424584b8103197c97f5b82, rmse: 6.3345\n",
      "run id: 494a1a10629d42c5aad6e5fd71851dbf, rmse: 6.3536\n",
      "run id: 4a62cb02581b4b37a3db96cfef6c1f06, rmse: 6.3610\n",
      "run id: ed343f11aa67484d9aca3f97f08bd07b, rmse: 6.3645\n",
      "run id: d799804d00cf42bf809530d8c460ee03, rmse: 6.3648\n"
     ]
    }
   ],
   "source": [
    "for run in runs:\n",
    "  print(f\"run id: {run.info.run_id}, rmse: {run.data.metrics['rmse']:.4f}\")"
   ]
  },
  {
   "cell_type": "code",
   "execution_count": 17,
   "metadata": {},
   "outputs": [],
   "source": [
    "import mlflow\n",
    "\n",
    "mlflow.set_tracking_uri(MLFLOW_TRACKING_URI)"
   ]
  },
  {
   "cell_type": "code",
   "execution_count": 19,
   "metadata": {},
   "outputs": [
    {
     "name": "stderr",
     "output_type": "stream",
     "text": [
      "Registered model 'nyc_taxi_regressor' already exists. Creating a new version of this model...\n",
      "Created version '1' of model 'nyc_taxi_regressor'.\n"
     ]
    },
    {
     "data": {
      "text/plain": [
       "<ModelVersion: aliases=[], creation_timestamp=1719824284651, current_stage='None', description=None, last_updated_timestamp=1719824284651, name='nyc_taxi_regressor', run_id='494a1a10629d42c5aad6e5fd71851dbf', run_link=None, source='/workspaces/MLOps-Zoomcamp/02-experiment-tracking/mlruns/1/494a1a10629d42c5aad6e5fd71851dbf/artifacts/model', status='READY', status_message=None, tags={}, user_id=None, version=1>"
      ]
     },
     "execution_count": 19,
     "metadata": {},
     "output_type": "execute_result"
    }
   ],
   "source": [
    "run_id = \"494a1a10629d42c5aad6e5fd71851dbf\"\n",
    "model_uri = f'runs:/{run_id}/model'\n",
    "\n",
    "mlflow.register_model(model_uri=model_uri, name='nyc_taxi_regressor')"
   ]
  },
  {
   "cell_type": "code",
   "execution_count": 22,
   "metadata": {},
   "outputs": [
    {
     "name": "stdout",
     "output_type": "stream",
     "text": [
      "version: 2, stage: None\n"
     ]
    },
    {
     "name": "stderr",
     "output_type": "stream",
     "text": [
      "/tmp/ipykernel_3470/1533589684.py:2: FutureWarning: ``mlflow.tracking.client.MlflowClient.get_latest_versions`` is deprecated since 2.9.0. Model registry stages will be removed in a future major release. To learn more about the deprecation of model registry stages, see our migration guide here: https://mlflow.org/docs/latest/model-registry.html#migrating-from-stages\n",
      "  latest_versions = client.get_latest_versions(name=model_name)\n"
     ]
    }
   ],
   "source": [
    "model_name = 'nyc_taxi_regressor'\n",
    "latest_versions = client.get_latest_versions(name=model_name)\n",
    "\n",
    "for version in latest_versions:\n",
    "  print(f\"version: {version.version}, stage: {version.current_stage}\")"
   ]
  },
  {
   "cell_type": "code",
   "execution_count": 26,
   "metadata": {},
   "outputs": [],
   "source": [
    "model_version = 2\n",
    "new_stage = 'Staging'\n",
    "\n",
    "client.set_registered_model_alias(name=model_name,\n",
    "                                  alias=new_stage,\n",
    "                                  version=model_version,)"
   ]
  },
  {
   "cell_type": "code",
   "execution_count": 25,
   "metadata": {},
   "outputs": [],
   "source": [
    "from datetime import datetime"
   ]
  },
  {
   "cell_type": "code",
   "execution_count": 27,
   "metadata": {},
   "outputs": [
    {
     "data": {
      "text/plain": [
       "<ModelVersion: aliases=['Staging'], creation_timestamp=1719824412489, current_stage='None', description='The model version 2 was transitioned to Staging on 2024-07-01', last_updated_timestamp=1719825409236, name='nyc_taxi_regressor', run_id='4a62cb02581b4b37a3db96cfef6c1f06', run_link='', source='/workspaces/MLOps-Zoomcamp/02-experiment-tracking/mlruns/1/4a62cb02581b4b37a3db96cfef6c1f06/artifacts/models_mlflow', status='READY', status_message=None, tags={}, user_id=None, version=2>"
      ]
     },
     "execution_count": 27,
     "metadata": {},
     "output_type": "execute_result"
    }
   ],
   "source": [
    "date =datetime.today().date()\n",
    "\n",
    "client.update_model_version(\n",
    "  name=model_name,\n",
    "  version=model_version,\n",
    "  description=f\"The model version {model_version} was transitioned to {new_stage} on {date}\"\n",
    ")"
   ]
  },
  {
   "cell_type": "code",
   "execution_count": 40,
   "metadata": {},
   "outputs": [],
   "source": [
    "from sklearn.metrics import mean_squared_error\n",
    "import pandas as pd\n",
    "\n",
    "\n",
    "def read_dataframe(filename):\n",
    "  df = pd.read_parquet(filename)\n",
    "\n",
    "  df.lpep_dropoff_datetime = pd.to_datetime(df.lpep_dropoff_datetime)\n",
    "  df.lpep_pickup_datetime = pd.to_datetime(df.lpep_pickup_datetime)\n",
    "\n",
    "  df['duration'] = df.lpep_dropoff_datetime - df.lpep_pickup_datetime\n",
    "  df.duration = df.duration.apply(lambda td: td.total_seconds() / 60)\n",
    "\n",
    "  df = df[(df.duration >= 1) & (df.duration <= 60)]\n",
    "\n",
    "  categorical = ['PULocationID', 'DOLocationID']\n",
    "  df[categorical] = df[categorical].astype(str)\n",
    "\n",
    "  return df\n",
    "\n",
    "\n",
    "def preprocess(df, dv):\n",
    "  df['PU_DO'] = df['PULocationID'] + '_' + df['DOLocationID']\n",
    "  categorical = ['PU_DO']\n",
    "  numerical = ['trip_distance']\n",
    "  train_dicts = df[categorical + numerical].to_dict(orient='records')\n",
    "  return dv.transform(train_dicts)\n",
    "\n",
    "\n",
    "def test_model(run_id, X_test, y_test):\n",
    "  model = mlflow.pyfunc.load_model(f\"runs:/{run_id}/models_mlflow\")\n",
    "  y_pred = model.predict(X_test)\n",
    "  return {\"rmse\": mean_squared_error(y_test, y_pred, squared=False)}"
   ]
  },
  {
   "cell_type": "code",
   "execution_count": 29,
   "metadata": {},
   "outputs": [],
   "source": [
    "df = read_dataframe('data/green_tripdata_2021-03.parquet')"
   ]
  },
  {
   "cell_type": "code",
   "execution_count": 31,
   "metadata": {},
   "outputs": [
    {
     "data": {
      "application/vnd.jupyter.widget-view+json": {
       "model_id": "db320677c62b45e8bbf97b57b77625c9",
       "version_major": 2,
       "version_minor": 0
      },
      "text/plain": [
       "Downloading artifacts:   0%|          | 0/1 [00:00<?, ?it/s]"
      ]
     },
     "metadata": {},
     "output_type": "display_data"
    },
    {
     "data": {
      "text/plain": [
       "'/workspaces/MLOps-Zoomcamp/02-experiment-tracking/preprocessor'"
      ]
     },
     "execution_count": 31,
     "metadata": {},
     "output_type": "execute_result"
    }
   ],
   "source": [
    "run_id = \"4a62cb02581b4b37a3db96cfef6c1f06\"\n",
    "client.download_artifacts(run_id=run_id, path='preprocessor', dst_path='.')"
   ]
  },
  {
   "cell_type": "code",
   "execution_count": 32,
   "metadata": {},
   "outputs": [],
   "source": [
    "import pickle\n",
    "\n",
    "with open('preprocessor/preprocessor.b', 'rb') as f_in:\n",
    "  dv = pickle.load(f_in)"
   ]
  },
  {
   "cell_type": "code",
   "execution_count": 33,
   "metadata": {},
   "outputs": [],
   "source": [
    "X_test = preprocess(df, dv)"
   ]
  },
  {
   "cell_type": "code",
   "execution_count": 34,
   "metadata": {},
   "outputs": [],
   "source": [
    "target = 'duration'\n",
    "y_test = df[target].values"
   ]
  },
  {
   "cell_type": "code",
   "execution_count": 41,
   "metadata": {},
   "outputs": [
    {
     "name": "stdout",
     "output_type": "stream",
     "text": [
      "CPU times: user 5.64 s, sys: 253 ms, total: 5.89 s\n",
      "Wall time: 5.29 s\n"
     ]
    },
    {
     "name": "stderr",
     "output_type": "stream",
     "text": [
      "/home/codespace/.local/lib/python3.10/site-packages/sklearn/metrics/_regression.py:492: FutureWarning: 'squared' is deprecated in version 1.4 and will be removed in 1.6. To calculate the root mean squared error, use the function'root_mean_squared_error'.\n",
      "  warnings.warn(\n"
     ]
    },
    {
     "data": {
      "text/plain": [
       "{'rmse': 6.3108828750265875}"
      ]
     },
     "execution_count": 41,
     "metadata": {},
     "output_type": "execute_result"
    }
   ],
   "source": [
    "%time test_model(run_id=run_id, X_test=X_test, y_test=y_test)"
   ]
  },
  {
   "cell_type": "code",
   "execution_count": 42,
   "metadata": {},
   "outputs": [],
   "source": [
    "model_version = 2\n",
    "new_stage = 'Production'\n",
    "\n",
    "client.set_registered_model_alias(name=model_name,\n",
    "                                  alias=new_stage,\n",
    "                                  version=model_version,)"
   ]
  },
  {
   "cell_type": "code",
   "execution_count": 43,
   "metadata": {},
   "outputs": [
    {
     "data": {
      "text/plain": [
       "<ModelVersion: aliases=['Production'], creation_timestamp=1719824412489, current_stage='None', description='The model version 2 was transitioned to Production on 2024-07-01', last_updated_timestamp=1719827237763, name='nyc_taxi_regressor', run_id='4a62cb02581b4b37a3db96cfef6c1f06', run_link='', source='/workspaces/MLOps-Zoomcamp/02-experiment-tracking/mlruns/1/4a62cb02581b4b37a3db96cfef6c1f06/artifacts/models_mlflow', status='READY', status_message=None, tags={}, user_id=None, version=2>"
      ]
     },
     "execution_count": 43,
     "metadata": {},
     "output_type": "execute_result"
    }
   ],
   "source": [
    "date =datetime.today().date()\n",
    "\n",
    "client.update_model_version(\n",
    "  name=model_name,\n",
    "  version=model_version,\n",
    "  description=f\"The model version {model_version} was transitioned to {new_stage} on {date}\"\n",
    ")"
   ]
  },
  {
   "cell_type": "code",
   "execution_count": null,
   "metadata": {},
   "outputs": [],
   "source": []
  }
 ],
 "metadata": {
  "kernelspec": {
   "display_name": "Python 3",
   "language": "python",
   "name": "python3"
  },
  "language_info": {
   "codemirror_mode": {
    "name": "ipython",
    "version": 3
   },
   "file_extension": ".py",
   "mimetype": "text/x-python",
   "name": "python",
   "nbconvert_exporter": "python",
   "pygments_lexer": "ipython3",
   "version": "3.10.13"
  }
 },
 "nbformat": 4,
 "nbformat_minor": 2
}
