{
 "cells": [
  {
   "cell_type": "code",
   "execution_count": 1,
   "id": "b4184920-8b77-447e-894c-f24164693ad3",
   "metadata": {},
   "outputs": [],
   "source": [
    "import pandas as pd\n",
    "import seaborn as sns\n",
    "import matplotlib.pyplot as plt\n",
    "\n",
    "from sklearn.feature_extraction import DictVectorizer\n",
    "from sklearn.linear_model import LinearRegression, Lasso, Ridge\n",
    "from sklearn.metrics import mean_squared_error\n",
    "\n",
    "import pickle"
   ]
  },
  {
   "cell_type": "code",
   "execution_count": 3,
   "id": "8b27584b",
   "metadata": {},
   "outputs": [
    {
     "name": "stderr",
     "output_type": "stream",
     "text": [
      "2024/06/30 08:31:20 INFO mlflow.tracking.fluent: Experiment with name 'nyc-taxi-experiment' does not exist. Creating a new experiment.\n"
     ]
    },
    {
     "data": {
      "text/plain": [
       "<Experiment: artifact_location='/workspaces/MLOps-Zoomcamp/02-experiment-tracking/mlruns/1', creation_time=1719736280654, experiment_id='1', last_update_time=1719736280654, lifecycle_stage='active', name='nyc-taxi-experiment', tags={}>"
      ]
     },
     "execution_count": 3,
     "metadata": {},
     "output_type": "execute_result"
    }
   ],
   "source": [
    "import mlflow\n",
    "\n",
    "mlflow.set_tracking_uri(\"sqlite:///mlflow.db\")\n",
    "mlflow.set_experiment(\"nyc-taxi-experiment\")"
   ]
  },
  {
   "cell_type": "markdown",
   "id": "7ce952fc-8716-4481-9d76-e50e272bc166",
   "metadata": {},
   "source": [
    "Link to download the data: https://www.nyc.gov/site/tlc/about/tlc-trip-record-data.page"
   ]
  },
  {
   "cell_type": "code",
   "execution_count": 4,
   "id": "a38fd5ae-53ea-4d89-b061-fefbdc6b9875",
   "metadata": {},
   "outputs": [],
   "source": [
    "def read_datafram(filname):\n",
    "    df = pd.read_parquet(filname)\n",
    "\n",
    "    df.lpep_pickup_datetime = pd.to_datetime(df.lpep_pickup_datetime)\n",
    "    df.lpep_dropoff_datetime = pd.to_datetime(df.lpep_dropoff_datetime)\n",
    "    \n",
    "    df['duration'] = df.lpep_dropoff_datetime - df.lpep_pickup_datetime\n",
    "    df.duration = df.duration.apply(lambda td: td.total_seconds() / 60)\n",
    "    \n",
    "    df = df[(df.duration >= 1) & (df.duration <= 60)]\n",
    "    \n",
    "    categorical = ['PULocationID', 'DOLocationID']\n",
    "    \n",
    "    df[categorical] = df[categorical].astype(str)\n",
    "    \n",
    "    return df"
   ]
  },
  {
   "cell_type": "code",
   "execution_count": 5,
   "id": "dc071276-81f0-449d-9d59-f85fff7552f3",
   "metadata": {},
   "outputs": [],
   "source": [
    "train_df = read_datafram('data/green_tripdata_2021-01.parquet')\n",
    "val_df = read_datafram('data/green_tripdata_2021-02.parquet')"
   ]
  },
  {
   "cell_type": "code",
   "execution_count": 6,
   "id": "3b062b06-3410-4f79-890d-ff45bb2be430",
   "metadata": {},
   "outputs": [],
   "source": [
    "train_df['PU_DO'] = train_df['PULocationID'] + '_' + train_df['DOLocationID']\n",
    "val_df['PU_DO'] = val_df['PULocationID'] + '_' + val_df['DOLocationID']"
   ]
  },
  {
   "cell_type": "code",
   "execution_count": 7,
   "id": "0222550a-3411-4c2e-947b-d5827d69299f",
   "metadata": {},
   "outputs": [],
   "source": [
    "categorical = ['PU_DO'] #'PULocationID', 'DOLocationID']\n",
    "numerical = ['trip_distance']\n",
    "\n",
    "dv = DictVectorizer()\n",
    "\n",
    "train_dicts = train_df[categorical + numerical].to_dict(orient='records')\n",
    "X_train = dv.fit_transform(train_dicts)\n",
    "y_train = train_df['duration'].values\n",
    "\n",
    "val_dicts = val_df[categorical + numerical].to_dict(orient='records')\n",
    "X_val = dv.transform(val_dicts)\n",
    "y_val = val_df['duration'].values"
   ]
  },
  {
   "cell_type": "code",
   "execution_count": 8,
   "id": "da4b0651-d1cf-4600-905c-83a98c2dd62e",
   "metadata": {},
   "outputs": [
    {
     "name": "stdout",
     "output_type": "stream",
     "text": [
      "MSE:  7.758715209663881\n"
     ]
    },
    {
     "name": "stderr",
     "output_type": "stream",
     "text": [
      "/home/codespace/.local/lib/python3.10/site-packages/sklearn/metrics/_regression.py:492: FutureWarning: 'squared' is deprecated in version 1.4 and will be removed in 1.6. To calculate the root mean squared error, use the function'root_mean_squared_error'.\n",
      "  warnings.warn(\n"
     ]
    }
   ],
   "source": [
    "lr = LinearRegression()\n",
    "lr.fit(X_train, y_train)\n",
    "\n",
    "y_pred = lr.predict(X_val)\n",
    "\n",
    "mse = mean_squared_error(y_val, y_pred, squared=False)\n",
    "\n",
    "print('MSE: ', mse)"
   ]
  },
  {
   "cell_type": "code",
   "execution_count": 14,
   "id": "29668ec7-2bc0-41ed-b313-939332541293",
   "metadata": {},
   "outputs": [
    {
     "name": "stdout",
     "output_type": "stream",
     "text": [
      "RMSE:  11.167275941179728\n"
     ]
    },
    {
     "name": "stderr",
     "output_type": "stream",
     "text": [
      "/home/codespace/.local/lib/python3.10/site-packages/sklearn/metrics/_regression.py:492: FutureWarning: 'squared' is deprecated in version 1.4 and will be removed in 1.6. To calculate the root mean squared error, use the function'root_mean_squared_error'.\n",
      "  warnings.warn(\n"
     ]
    }
   ],
   "source": [
    "with mlflow.start_run():\n",
    "  \n",
    "  mlflow.set_tag('developer', 'esmail')\n",
    "  \n",
    "  mlflow.log_param('train-data-path', 'data/green_tripdata_2021-01.parquet')\n",
    "  mlflow.log_param('test-data-path', 'data/green_tripdata_2021-02.parquet')\n",
    "  \n",
    "  alpha = 0.01\n",
    "  mlflow.log_param('alpha', alpha)\n",
    "  \n",
    "  ls = Lasso(alpha=alpha)\n",
    "  ls.fit(X_train, y_train)\n",
    "\n",
    "  y_pred = ls.predict(X_val)\n",
    "\n",
    "  rmse = mean_squared_error(y_val, y_pred, squared=False)\n",
    "\n",
    "  print('RMSE: ', rmse)\n",
    "  mlflow.log_metric('RMSE', rmse)"
   ]
  },
  {
   "cell_type": "code",
   "execution_count": 11,
   "id": "6781914d-e0c6-4d3f-840a-67ade25bd85f",
   "metadata": {},
   "outputs": [
    {
     "name": "stdout",
     "output_type": "stream",
     "text": [
      "MSE:  7.703735141467915\n"
     ]
    },
    {
     "name": "stderr",
     "output_type": "stream",
     "text": [
      "/home/codespace/.local/lib/python3.10/site-packages/sklearn/metrics/_regression.py:492: FutureWarning: 'squared' is deprecated in version 1.4 and will be removed in 1.6. To calculate the root mean squared error, use the function'root_mean_squared_error'.\n",
      "  warnings.warn(\n"
     ]
    }
   ],
   "source": [
    "re = Ridge(alpha=1)\n",
    "re.fit(X_train, y_train)\n",
    "\n",
    "y_pred = re.predict(X_val)\n",
    "\n",
    "mse = mean_squared_error(y_val, y_pred, squared=False)\n",
    "\n",
    "print('MSE: ', mse)"
   ]
  },
  {
   "cell_type": "code",
   "execution_count": 115,
   "id": "fc140747-bf25-470e-b0bd-bdc6f66f25fc",
   "metadata": {},
   "outputs": [],
   "source": [
    "with open('models/lin_reg.bin', 'wb') as f_out:\n",
    "    pickle.dump((dv, re), f_out)"
   ]
  },
  {
   "cell_type": "code",
   "execution_count": null,
   "id": "9e8668e7-e3f9-456d-bb60-c61534774cde",
   "metadata": {},
   "outputs": [],
   "source": []
  }
 ],
 "metadata": {
  "kernelspec": {
   "display_name": "Python 3 (ipykernel)",
   "language": "python",
   "name": "python3"
  },
  "language_info": {
   "codemirror_mode": {
    "name": "ipython",
    "version": 3
   },
   "file_extension": ".py",
   "mimetype": "text/x-python",
   "name": "python",
   "nbconvert_exporter": "python",
   "pygments_lexer": "ipython3",
   "version": "3.10.13"
  }
 },
 "nbformat": 4,
 "nbformat_minor": 5
}
