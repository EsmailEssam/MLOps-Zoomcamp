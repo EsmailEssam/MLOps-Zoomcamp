{
 "cells": [
  {
   "cell_type": "code",
   "execution_count": 1,
   "id": "ab2dab10-2118-4b27-93d1-1d9f51f7368c",
   "metadata": {},
   "outputs": [],
   "source": [
    "import pandas as pd\n",
    "import seaborn as sns\n",
    "import matplotlib.pyplot as plt\n",
    "\n",
    "from sklearn.feature_extraction import DictVectorizer\n",
    "from sklearn.linear_model import LinearRegression, Lasso, Ridge\n",
    "from sklearn.metrics import mean_squared_error"
   ]
  },
  {
   "cell_type": "code",
   "execution_count": 7,
   "id": "06b5eaf1-dac4-40e8-bdbb-e1b4f47bea2e",
   "metadata": {},
   "outputs": [],
   "source": [
    "df = pd.read_parquet('data/yellow_tripdata_2023-01.parquet')"
   ]
  },
  {
   "cell_type": "code",
   "execution_count": 8,
   "id": "3d05831c-b808-486a-90f7-96cfebca1bcf",
   "metadata": {},
   "outputs": [
    {
     "data": {
      "text/plain": [
       "(3066766, 19)"
      ]
     },
     "execution_count": 8,
     "metadata": {},
     "output_type": "execute_result"
    }
   ],
   "source": [
    "df.shape"
   ]
  },
  {
   "cell_type": "markdown",
   "id": "3c815f74-e9ec-4a84-82d0-ff8b9bd0cb02",
   "metadata": {},
   "source": [
    "Q1: How many columns are there?<br>\n",
    "ِAnswer: 19"
   ]
  },
  {
   "cell_type": "code",
   "execution_count": 9,
   "id": "66b5be5a-129f-43b9-99d6-be481d9d31a7",
   "metadata": {},
   "outputs": [],
   "source": [
    "df.tpep_pickup_datetime = pd.to_datetime(df.tpep_pickup_datetime)\n",
    "df.tpep_dropoff_datetime = pd.to_datetime(df.tpep_dropoff_datetime)\n",
    "\n",
    "df['duration'] = df.tpep_dropoff_datetime - df.tpep_pickup_datetime\n",
    "df.duration = df.duration.apply(lambda td: td.total_seconds() / 60)"
   ]
  },
  {
   "cell_type": "code",
   "execution_count": 10,
   "id": "45d28714-2e47-4251-b77c-e1405152f7cd",
   "metadata": {},
   "outputs": [
    {
     "data": {
      "text/plain": [
       "count    3.066766e+06\n",
       "mean     1.566900e+01\n",
       "std      4.259435e+01\n",
       "min     -2.920000e+01\n",
       "25%      7.116667e+00\n",
       "50%      1.151667e+01\n",
       "75%      1.830000e+01\n",
       "max      1.002918e+04\n",
       "Name: duration, dtype: float64"
      ]
     },
     "execution_count": 10,
     "metadata": {},
     "output_type": "execute_result"
    }
   ],
   "source": [
    "df['duration'].describe()"
   ]
  },
  {
   "cell_type": "markdown",
   "id": "474569c0-6e47-41da-93dd-f61a1c9cf19c",
   "metadata": {},
   "source": [
    "Q2: What's the standard deviation of the trips duration in January?<br>\n",
    "Answer: 42.59"
   ]
  },
  {
   "cell_type": "code",
   "execution_count": 11,
   "id": "a576ed19-e8f6-456b-a2e3-033c913f9681",
   "metadata": {},
   "outputs": [],
   "source": [
    "df = df[(df.duration >= 1) & (df.duration <= 60)]"
   ]
  },
  {
   "cell_type": "code",
   "execution_count": 14,
   "id": "143c6a54-2cab-4556-a1dc-9bac6f1a2261",
   "metadata": {},
   "outputs": [
    {
     "data": {
      "text/plain": [
       "(3009173, 20)"
      ]
     },
     "execution_count": 14,
     "metadata": {},
     "output_type": "execute_result"
    }
   ],
   "source": [
    "df.shape"
   ]
  },
  {
   "cell_type": "code",
   "execution_count": 16,
   "id": "f807b8bd-bda4-4bdc-a004-8d1c3d9e7d01",
   "metadata": {},
   "outputs": [
    {
     "data": {
      "text/plain": [
       "98.1220282212598"
      ]
     },
     "execution_count": 16,
     "metadata": {},
     "output_type": "execute_result"
    }
   ],
   "source": [
    "Q3 = (3009173/3066766) * 100\n",
    "Q3"
   ]
  },
  {
   "cell_type": "markdown",
   "id": "2c3f4cbe-da26-40a1-96b9-a472da422a30",
   "metadata": {},
   "source": [
    "Q3: What fraction of the records left after you dropped the outliers?<br>\n",
    "Answer: 98%"
   ]
  },
  {
   "cell_type": "code",
   "execution_count": 19,
   "id": "295ec271-7db8-4b6b-b7cd-80ad2abd64f4",
   "metadata": {},
   "outputs": [],
   "source": [
    "def read_datafram(filname):\n",
    "    df = pd.read_parquet(filname)\n",
    "\n",
    "    df.tpep_pickup_datetime = pd.to_datetime(df.tpep_pickup_datetime)\n",
    "    df.tpep_dropoff_datetime = pd.to_datetime(df.tpep_dropoff_datetime)\n",
    "    \n",
    "    df['duration'] = df.tpep_dropoff_datetime - df.tpep_pickup_datetime\n",
    "    df.duration = df.duration.apply(lambda td: td.total_seconds() / 60)\n",
    "    \n",
    "    df = df[(df.duration >= 1) & (df.duration <= 60)]\n",
    "    \n",
    "    features = ['PULocationID', 'DOLocationID']\n",
    "    \n",
    "    df[features ] = df[features ].astype(str)\n",
    "    \n",
    "    return df"
   ]
  },
  {
   "cell_type": "code",
   "execution_count": 20,
   "id": "6adf253d-1c94-4b91-84b4-76f9ae596d0b",
   "metadata": {},
   "outputs": [],
   "source": [
    "train_df = read_datafram('data/yellow_tripdata_2023-01.parquet')\n",
    "val_df = read_datafram('data/yellow_tripdata_2023-02.parquet')"
   ]
  },
  {
   "cell_type": "code",
   "execution_count": 21,
   "id": "487591b4-e62b-4fbb-944b-ecb24b541fc3",
   "metadata": {},
   "outputs": [],
   "source": [
    "features = ['PULocationID', 'DOLocationID']\n",
    "\n",
    "dv = DictVectorizer()\n",
    "\n",
    "train_dicts = train_df[features].to_dict(orient='records')\n",
    "X_train = dv.fit_transform(train_dicts)\n",
    "y_train = train_df['duration'].values\n",
    "\n",
    "val_dicts = val_df[features].to_dict(orient='records')\n",
    "X_val = dv.transform(val_dicts)\n",
    "y_val = val_df['duration'].values"
   ]
  },
  {
   "cell_type": "code",
   "execution_count": 23,
   "id": "7cb86f2c-470b-4170-9b6a-2f43915bd37d",
   "metadata": {},
   "outputs": [
    {
     "data": {
      "text/plain": [
       "(3009173, 515)"
      ]
     },
     "execution_count": 23,
     "metadata": {},
     "output_type": "execute_result"
    }
   ],
   "source": [
    "X_train.shape"
   ]
  },
  {
   "cell_type": "markdown",
   "id": "ade17247-b6bc-44e3-8986-d6aa74fa2db7",
   "metadata": {},
   "source": [
    "Q4: What's the dimensionality of this matrix (number of columns)?<br>\n",
    "Answer: 515"
   ]
  },
  {
   "cell_type": "code",
   "execution_count": 27,
   "id": "4062bfa7-2d46-421b-98db-2b6644970dd9",
   "metadata": {},
   "outputs": [
    {
     "name": "stdout",
     "output_type": "stream",
     "text": [
      "RMSE on train:  7.649261930819891\n"
     ]
    }
   ],
   "source": [
    "lr = LinearRegression()\n",
    "lr.fit(X_train, y_train)\n",
    "\n",
    "y_pred = lr.predict(X_train)\n",
    "\n",
    "rmse_train  = mean_squared_error(y_train, y_pred, squared=False)\n",
    "\n",
    "print('RMSE on train: ', rmse_train)"
   ]
  },
  {
   "cell_type": "markdown",
   "id": "5dac169c-1d71-4fb4-9cd6-9efb0bea4441",
   "metadata": {},
   "source": [
    "Q5: What's the RMSE on train?<br>\n",
    "Answer: 7.65 or the closest number to it"
   ]
  },
  {
   "cell_type": "code",
   "execution_count": 28,
   "id": "2ee1abc3-6441-44c6-86d7-08accbc36757",
   "metadata": {},
   "outputs": [
    {
     "name": "stdout",
     "output_type": "stream",
     "text": [
      "RMSE on validation:  7.811817675774269\n"
     ]
    }
   ],
   "source": [
    "y_pred = lr.predict(X_val)\n",
    "\n",
    "rmse_val = mean_squared_error(y_val, y_pred, squared=False)\n",
    "\n",
    "print('RMSE on validation: ', rmse_val)"
   ]
  },
  {
   "cell_type": "markdown",
   "id": "65ad85ef-0287-4f63-b3a8-958dfa202d2a",
   "metadata": {},
   "source": [
    "Q6: What's the RMSE on validation?<br>\r\n",
    "Answer 7.81  or the closest number to it"
   ]
  }
 ],
 "metadata": {
  "kernelspec": {
   "display_name": "Python 3 (ipykernel)",
   "language": "python",
   "name": "python3"
  },
  "language_info": {
   "codemirror_mode": {
    "name": "ipython",
    "version": 3
   },
   "file_extension": ".py",
   "mimetype": "text/x-python",
   "name": "python",
   "nbconvert_exporter": "python",
   "pygments_lexer": "ipython3",
   "version": "3.11.7"
  }
 },
 "nbformat": 4,
 "nbformat_minor": 5
}
